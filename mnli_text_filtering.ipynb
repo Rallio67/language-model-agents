{
 "cells": [
  {
   "cell_type": "code",
   "execution_count": 1,
   "id": "eef35dec-7fef-4bc4-b8d5-c062d07f7dde",
   "metadata": {},
   "outputs": [],
   "source": [
    "from transformers import AutoTokenizer, AutoModelForSequenceClassification, AutoModel\n",
    "import torch\n",
    "import pickle\n",
    "import re\n",
    "import math\n",
    "import random"
   ]
  },
  {
   "cell_type": "code",
   "execution_count": 2,
   "id": "e8575359-6afc-4f5a-9768-cf3a0fca00a1",
   "metadata": {},
   "outputs": [
    {
     "name": "stdout",
     "output_type": "stream",
     "text": [
      "{'entailment': 83.6, 'neutral': 16.2, 'contradiction': 0.3}\n"
     ]
    }
   ],
   "source": [
    "model_name = \"DeBERTa-v3-large-mnli-fever-anli-ling-wanli\"\n",
    "tokenizer = AutoTokenizer.from_pretrained(model_name)\n",
    "model = AutoModelForSequenceClassification.from_pretrained(model_name).cuda(0)\n",
    "\n",
    "premise = \"I first thought that I liked the movie, but upon second thought it was actually disappointing.\"\n",
    "hypothesis = \"The movie was not good.\"\n",
    "\n",
    "input = tokenizer(premise, hypothesis, truncation=True, return_tensors=\"pt\")\n",
    "output = model(input[\"input_ids\"].cuda(0))\n",
    "prediction = torch.softmax(output[\"logits\"][0], -1).tolist()\n",
    "label_names = [\"entailment\", \"neutral\", \"contradiction\"]\n",
    "prediction = {name: round(float(pred) * 100, 1) for pred, name in zip(prediction, label_names)}\n",
    "print(prediction)"
   ]
  },
  {
   "cell_type": "code",
   "execution_count": 3,
   "id": "43300884-f2a7-4f23-83db-affef9130a2f",
   "metadata": {},
   "outputs": [],
   "source": [
    "# Function to get a textual entailment prediction for a premise and hypothesis\n",
    "\n",
    "def get_prediction(premise,hypothesis):\n",
    "    input = tokenizer(premise, hypothesis, truncation=True, return_tensors=\"pt\")\n",
    "    output = model(input[\"input_ids\"].cuda(0))\n",
    "    prediction = torch.softmax(output[\"logits\"][0], -1).tolist()\n",
    "    #label_names = [\"entailment\", \"neutral\", \"contradiction\"]\n",
    "    label_names = [\"entailment\", \"neutral\", \"contradiction\"]\n",
    "    prediction = {name: round(float(pred) * 100, 1) for pred, name in zip(prediction, label_names)}\n",
    "    return prediction"
   ]
  },
  {
   "cell_type": "code",
   "execution_count": 4,
   "id": "6537ecf1-2bf2-41e9-accb-852c9f634467",
   "metadata": {},
   "outputs": [
    {
     "name": "stdout",
     "output_type": "stream",
     "text": [
      "{'entailment': 0.0, 'neutral': 0.0, 'contradiction': 100.0}\n",
      "{'entailment': 99.2, 'neutral': 0.7, 'contradiction': 0.0}\n",
      "{'entailment': 0.1, 'neutral': 99.9, 'contradiction': 0.0}\n"
     ]
    }
   ],
   "source": [
    "# Verify all these outputs work as expected.\n",
    "\n",
    "premise=\"I really admire you.\"\n",
    "hypothesis=\"I find you despicable.\"\n",
    "print(get_prediction(premise,hypothesis))\n",
    "premise=\"I really admire you.\"\n",
    "hypothesis=\"You are a person that I look up to.\"\n",
    "print(get_prediction(premise,hypothesis))\n",
    "premise=\"I really admire you.\"\n",
    "hypothesis=\"I love the outdoors.\"\n",
    "print(get_prediction(premise,hypothesis))"
   ]
  },
  {
   "cell_type": "code",
   "execution_count": null,
   "id": "9509f5ba-f7b5-4326-88fa-29c5bd7ffa97",
   "metadata": {},
   "outputs": [],
   "source": [
    "#load pickle binary file\n",
    "\n",
    "objects = []\n",
    "with (open(\"text_list.pkl\", \"rb\")) as openfile:\n",
    "    while True:\n",
    "        try:\n",
    "            objects.append(pickle.load(openfile))\n",
    "        except EOFError:\n",
    "            break\n",
    "texts=objects[0]"
   ]
  }
 ],
 "metadata": {
  "kernelspec": {
   "display_name": "Python 3 (ipykernel)",
   "language": "python",
   "name": "python3"
  },
  "language_info": {
   "codemirror_mode": {
    "name": "ipython",
    "version": 3
   },
   "file_extension": ".py",
   "mimetype": "text/x-python",
   "name": "python",
   "nbconvert_exporter": "python",
   "pygments_lexer": "ipython3",
   "version": "3.9.12"
  }
 },
 "nbformat": 4,
 "nbformat_minor": 5
}
