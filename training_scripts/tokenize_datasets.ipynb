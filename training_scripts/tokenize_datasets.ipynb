{
 "cells": [
  {
   "cell_type": "code",
   "execution_count": 1,
   "id": "849ca276-0202-4f51-afa7-eeebd21939cc",
   "metadata": {},
   "outputs": [],
   "source": [
    "\"\"\"\n",
    "This notebook takes a flat text file of training\n",
    "examples that are delimited by EOS tokens (<|endoftext|>)\n",
    "and converts it into a training and evaluation dataset\n",
    "to be used with the minimal_trainer.py training script.\n",
    "\n",
    "It will filter, pad, and attention mask based on the\n",
    "maximum length. This should match the block_size in the\n",
    "minimal_trainer.py script.\n",
    "\"\"\"\n",
    "\n",
    "from transformers import AutoTokenizer\n",
    "from datasets import load_from_disk, Dataset\n",
    "import pandas as pd\n",
    "import datasets\n",
    "import torch\n",
    "import random"
   ]
  },
  {
   "cell_type": "code",
   "execution_count": 2,
   "id": "11be9ba3-c9cd-4916-ac77-684f6187ca99",
   "metadata": {},
   "outputs": [],
   "source": [
    "# Load tokenizer\n",
    "\n",
    "tokenizer = AutoTokenizer.from_pretrained(\"EleutherAI/gpt-neox-20b\")"
   ]
  },
  {
   "cell_type": "code",
   "execution_count": 3,
   "id": "5764b95b-e29e-4e4d-85cb-622fc2cb2d80",
   "metadata": {},
   "outputs": [
    {
     "name": "stdout",
     "output_type": "stream",
     "text": [
      "335035\n"
     ]
    }
   ],
   "source": [
    "# Load text file line by line\n",
    "# Rallio_test.txt is just some random text examples.\n",
    "# Caution: has not been carefully reviewed, could contain toxic materials.\n",
    "\n",
    "with open('rallio_test.txt') as my_file:\n",
    "    data = my_file.read()\n",
    "print(len(data))"
   ]
  },
  {
   "cell_type": "code",
   "execution_count": 5,
   "id": "bc6ce721-1e4f-4495-a74f-acb35c630a19",
   "metadata": {},
   "outputs": [
    {
     "name": "stdout",
     "output_type": "stream",
     "text": [
      "You have this many training examples: 697\n"
     ]
    }
   ],
   "source": [
    "# Split entries by EOS token and remove any unneeded newlines\n",
    "\n",
    "entries=data.split(\"<|endoftext|>\")\n",
    "count=0\n",
    "fixed=[]\n",
    "for i in entries:\n",
    "    new_line=\"\"\n",
    "    if i[-1]==\"\\n\" and i[0] ==\"\\n\":\n",
    "        new_line=i[1:-1]\n",
    "        count+=1\n",
    "    elif i[0]==\"\\n\":\n",
    "        new_line=i[1:]\n",
    "    elif i[-1] == \"\\n\":\n",
    "        new_line=i[:-1]\n",
    "    if len(new_line) > 5:\n",
    "        fixed.append(new_line)\n",
    "    else:\n",
    "        fixed.append(i)\n",
    "print(\"You have this many training examples: \"+str(len(fixed)))"
   ]
  },
  {
   "cell_type": "code",
   "execution_count": 6,
   "id": "05a1c9df-d86b-4c62-93aa-c19fc90ead31",
   "metadata": {},
   "outputs": [],
   "source": [
    "#Add back EOS tokens. I have chosen to put two endoftext tokens.\n",
    "#Probably only one is needed.\n",
    "\n",
    "fixed_tokens=[]\n",
    "for i in fixed:\n",
    "    line=i+\"<|endoftext|><|endoftext|>\"\n",
    "    tokens=tokenizer.encode(line)\n",
    "    fixed_tokens.append((line,tokens))"
   ]
  },
  {
   "cell_type": "code",
   "execution_count": null,
   "id": "e45da388-0dea-410f-95e9-f807cf661692",
   "metadata": {},
   "outputs": [],
   "source": [
    "# Set the maximum token length per item.\n",
    "# Pad and mask any entries shorter than max_length.\n",
    "\n",
    "max_length=280\n",
    "\n",
    "attention_mask=[]\n",
    "input_ids=[]\n",
    "labels=[]\n",
    "\n",
    "for i in fixed_tokens:\n",
    "    length=len(i[1])\n",
    "    attention=[]\n",
    "    if length < max_length:\n",
    "        for k in range(0,(max_length-length)):\n",
    "            entry=i[1]\n",
    "            entry.append(1)\n",
    "        for k in range(0,(length)):\n",
    "            attention.append(1)\n",
    "        for k in range(0,(max_length-length)):\n",
    "            attention.append(0)\n",
    "        attention_mask.append(attention)\n",
    "        input_ids.append(entry)\n",
    "        labels.append(entry)\n",
    "\n",
    "# Print out and inspect the first entry.\n",
    "print(fixed_tokens[0])\n",
    "print(attention_mask[0])\n",
    "print(input_ids[0])\n",
    "print(labels[0])"
   ]
  },
  {
   "cell_type": "code",
   "execution_count": 8,
   "id": "aae3a1db-7f24-4f9a-9c57-7a8ed8653d9b",
   "metadata": {},
   "outputs": [],
   "source": [
    "# Create pandas dataframe\n",
    "\n",
    "df = pd.DataFrame({\"attention_mask\": attention_mask, \"input_ids\":input_ids,\"labels\":labels})"
   ]
  },
  {
   "cell_type": "code",
   "execution_count": 12,
   "id": "b4662b44-6d9e-46c3-b47e-3375cb682397",
   "metadata": {},
   "outputs": [
    {
     "name": "stdout",
     "output_type": "stream",
     "text": [
      "Training examples: 690\n",
      "Evaluation examples: 7\n"
     ]
    }
   ],
   "source": [
    "# Create dataset\n",
    "\n",
    "new_dataset=datasets.Dataset.from_pandas(df)\n",
    "split_dataset = new_dataset.train_test_split(test_size=0.01)\n",
    "train_dataset=split_dataset['train']\n",
    "eval_dataset=split_dataset['test']\n",
    "\n",
    "print(\"Training examples: \"+str(len(train_dataset)))\n",
    "print(\"Evaluation examples: \"+str(len(eval_dataset)))"
   ]
  },
  {
   "cell_type": "code",
   "execution_count": 13,
   "id": "0acd7efe-7ff1-4de7-944a-e1ff9251ec50",
   "metadata": {},
   "outputs": [
    {
     "data": {
      "application/vnd.jupyter.widget-view+json": {
       "model_id": "5c397c8cf5eb46dbadd71a8cb035f227",
       "version_major": 2,
       "version_minor": 0
      },
      "text/plain": [
       "Flattening the indices:   0%|          | 0/1 [00:00<?, ?ba/s]"
      ]
     },
     "metadata": {},
     "output_type": "display_data"
    },
    {
     "data": {
      "application/vnd.jupyter.widget-view+json": {
       "model_id": "dc5e78e3354a42ff8b56e771c85e7f07",
       "version_major": 2,
       "version_minor": 0
      },
      "text/plain": [
       "Flattening the indices:   0%|          | 0/1 [00:00<?, ?ba/s]"
      ]
     },
     "metadata": {},
     "output_type": "display_data"
    }
   ],
   "source": [
    "# Save dataset\n",
    "\n",
    "train_dataset.save_to_disk(\"my_train_data\")\n",
    "eval_dataset.save_to_disk(\"my_eval_data\")"
   ]
  },
  {
   "cell_type": "code",
   "execution_count": 14,
   "id": "57506845-6f29-4338-b47f-eaf7b101bfdb",
   "metadata": {},
   "outputs": [],
   "source": [
    "# Reload the dataset if necessary\n",
    "\n",
    "my_train_dataset = load_from_disk(\"my_train_data\")\n",
    "my_eval_dataset = load_from_disk(\"my_eval_data\")"
   ]
  },
  {
   "cell_type": "code",
   "execution_count": 15,
   "id": "5399e2bc-54fe-4a91-991f-3495331bea65",
   "metadata": {},
   "outputs": [
    {
     "data": {
      "text/plain": [
       "Dataset({\n",
       "    features: ['attention_mask', 'input_ids', 'labels'],\n",
       "    num_rows: 690\n",
       "})"
      ]
     },
     "execution_count": 15,
     "metadata": {},
     "output_type": "execute_result"
    }
   ],
   "source": [
    "my_train_dataset"
   ]
  },
  {
   "cell_type": "code",
   "execution_count": 16,
   "id": "14447e39-75fb-4442-ae27-86f9bc2e1d7a",
   "metadata": {},
   "outputs": [
    {
     "data": {
      "text/plain": [
       "Dataset({\n",
       "    features: ['attention_mask', 'input_ids', 'labels'],\n",
       "    num_rows: 7\n",
       "})"
      ]
     },
     "execution_count": 16,
     "metadata": {},
     "output_type": "execute_result"
    }
   ],
   "source": [
    "my_eval_dataset"
   ]
  },
  {
   "cell_type": "code",
   "execution_count": null,
   "id": "143750e6-e6ec-4450-8b01-ab9b4ce108cd",
   "metadata": {},
   "outputs": [],
   "source": []
  }
 ],
 "metadata": {
  "kernelspec": {
   "display_name": "Python 3 (ipykernel)",
   "language": "python",
   "name": "python3"
  },
  "language_info": {
   "codemirror_mode": {
    "name": "ipython",
    "version": 3
   },
   "file_extension": ".py",
   "mimetype": "text/x-python",
   "name": "python",
   "nbconvert_exporter": "python",
   "pygments_lexer": "ipython3",
   "version": "3.9.12"
  }
 },
 "nbformat": 4,
 "nbformat_minor": 5
}
