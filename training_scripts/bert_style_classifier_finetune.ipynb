{
 "cells": [
  {
   "cell_type": "code",
   "execution_count": null,
   "id": "dee9cdda-e0fc-4179-b06b-cac2663e3cc3",
   "metadata": {},
   "outputs": [],
   "source": [
    "import pandas as pd\n",
    "import numpy as np\n",
    "from tqdm.auto import tqdm\n",
    "import torch\n",
    "import torch.nn as nn\n",
    "import torch.optim as optim\n",
    "from datasets import Dataset\n",
    "from sklearn.model_selection import train_test_split\n",
    "import re"
   ]
  },
  {
   "cell_type": "code",
   "execution_count": null,
   "id": "13d6666f-a2d5-4020-8ea0-2295781ca835",
   "metadata": {},
   "outputs": [],
   "source": [
    "with open(\"3sent.train.shuffled.txt\") as f:\n",
    "  data = f.readlines()\n",
    "\n",
    "classifiers = []\n",
    "texts = []\n",
    "\n",
    "for review in data:\n",
    "  review=review.replace('\\n', '')\n",
    "  splitting=re.split('\\t',review)\n",
    "  classifiers.append(splitting[0])\n",
    "  texts.append(splitting[1]+\"[SEP]\"+splitting[2])\n",
    "\n",
    "data_dict = {\n",
    "    'sentences': texts,\n",
    "    'label': classifiers\n",
    "}\n",
    "\n",
    "df = pd.DataFrame(data_dict)\n",
    "df.head()"
   ]
  },
  {
   "cell_type": "code",
   "execution_count": null,
   "id": "e22bf90e-d94e-45dc-8597-1aa6aeb68b95",
   "metadata": {},
   "outputs": [],
   "source": [
    "mapping = {\n",
    "    '0' : 0,\n",
    "    '1': 1,\n",
    "    '2': 2\n",
    "}\n",
    "\n",
    "df['label'] = df['label'].map(mapping)"
   ]
  },
  {
   "cell_type": "code",
   "execution_count": null,
   "id": "f263f36b-916c-4d34-8625-3f63a7951cf1",
   "metadata": {},
   "outputs": [],
   "source": [
    "df['label']\n",
    "df['label'] = df['label'].astype(int)\n",
    "df['label'].value_counts()"
   ]
  },
  {
   "cell_type": "code",
   "execution_count": null,
   "id": "65c395b2-4caf-498c-ae9f-9c5ec41e12ec",
   "metadata": {},
   "outputs": [],
   "source": [
    "from transformers import AutoTokenizer\n",
    "\n",
    "tokenizer = AutoTokenizer.from_pretrained(\"microsoft/deberta-v3-large\")"
   ]
  },
  {
   "cell_type": "code",
   "execution_count": null,
   "id": "24f9f738-b18a-4419-af70-39579449d515",
   "metadata": {},
   "outputs": [],
   "source": [
    "dataset = Dataset.from_pandas(df)\n",
    "dataset = dataset.train_test_split(test_size=0.001)"
   ]
  },
  {
   "cell_type": "code",
   "execution_count": null,
   "id": "405f8d9b-0500-476b-8aab-889f9d614a95",
   "metadata": {},
   "outputs": [],
   "source": [
    "def tokenize_function(examples):\n",
    "    return tokenizer(examples[\"sentences\"], max_length=128, padding='max_length', truncation=True)\n",
    "\n",
    "tokenized_datasets = dataset.map(tokenize_function, batched=True)\n",
    "tokenized_datasets"
   ]
  },
  {
   "cell_type": "code",
   "execution_count": null,
   "id": "aa97c60f-7689-4bb8-8dcb-35bccd33575b",
   "metadata": {},
   "outputs": [],
   "source": [
    "train_dataset = tokenized_datasets[\"train\"]\n",
    "eval_dataset = tokenized_datasets[\"test\"]\n",
    "train_dataset.save_to_disk(\"3sent_train\")\n",
    "eval_dataset.save_to_disk(\"3sent_eval\")"
   ]
  },
  {
   "cell_type": "code",
   "execution_count": null,
   "id": "463d5271-c3e2-4657-81c7-52ffa18d58fa",
   "metadata": {},
   "outputs": [],
   "source": [
    "train_dataset['sentences']"
   ]
  },
  {
   "cell_type": "code",
   "execution_count": null,
   "id": "ddceba1a-b0dd-49e6-8e2e-529d15df6be4",
   "metadata": {},
   "outputs": [],
   "source": [
    "from transformers import AutoModelForSequenceClassification\n",
    "from transformers import TrainingArguments\n",
    "from transformers import Trainer\n",
    "from datasets import load_from_disk\n",
    "\n",
    "train_dataset = load_from_disk(\"3sent_train\")\n",
    "eval_dataset = load_from_disk(\"3sent_eval\")\n",
    "model = AutoModelForSequenceClassification.from_pretrained(\"deberta-v3-large\", torch_dtype=torch.bfloat16, num_labels=3, output_hidden_states = True)\n",
    "training_args = TrainingArguments(\"test_trainer\",\n",
    "                                  num_train_epochs=1,\n",
    "                                  resume_from_checkpoint=False,\n",
    "                                  evaluation_strategy=\"steps\",\n",
    "                                  save_steps=1000,\n",
    "                                  eval_steps=100,\n",
    "                                  per_device_train_batch_size=8)\n",
    "trainer = Trainer(\n",
    "    model=model, args=training_args, train_dataset=train_dataset, eval_dataset=eval_dataset,\n",
    ")\n",
    "\n",
    "trainer.train()"
   ]
  },
  {
   "cell_type": "code",
   "execution_count": null,
   "id": "028a1920-acb6-4b71-a926-aaab2eecb8bd",
   "metadata": {},
   "outputs": [],
   "source": []
  }
 ],
 "metadata": {
  "kernelspec": {
   "display_name": "Python 3 (ipykernel)",
   "language": "python",
   "name": "python3"
  },
  "language_info": {
   "codemirror_mode": {
    "name": "ipython",
    "version": 3
   },
   "file_extension": ".py",
   "mimetype": "text/x-python",
   "name": "python",
   "nbconvert_exporter": "python",
   "pygments_lexer": "ipython3",
   "version": "3.9.12"
  }
 },
 "nbformat": 4,
 "nbformat_minor": 5
}
